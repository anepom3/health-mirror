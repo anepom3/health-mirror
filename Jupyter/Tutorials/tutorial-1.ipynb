{
 "cells": [
  {
   "cell_type": "markdown",
   "metadata": {},
   "source": [
    "# Introduction\n",
    "\n",
    "  This is my *first* Jupyter notebook\n",
    "  Today we're going to make sure the following libraries are installed:\n",
    "  1. OpenCV\n",
    "  2. Scikit Image\n",
    "  3. NumPy\n",
    " \n",
    "  If they are not installed, then we'll move to the Anaconda Navigator.\n",
    "  1. Click on Environments\n",
    "  2. Click on Left Arrow to expand Package List\n",
    "  3. Check to see if the above packages are installed or in the Not Installed List\n",
    "  4. Install neccessary packages\n",
    "  5. Otherwise Click the Play Button next the current environment\n",
    "  6. Open Terminal\n",
    "  7. pip install <package name>\n",
    "    \n",
    "  {OpenCV : python-opencv\n",
    "  Scikit Image: scikit-image\n",
    "  NumPy : numpy} \n",
    "  \n",
    "  "
   ]
  },
  {
   "cell_type": "code",
   "execution_count": 9,
   "metadata": {},
   "outputs": [],
   "source": [
    "import cv2\n",
    "from skimage import io, color\n",
    "import numpy as np"
   ]
  },
  {
   "cell_type": "code",
   "execution_count": 11,
   "metadata": {},
   "outputs": [],
   "source": [
    "\n",
    "# Create a VideoCapture object and get video from webcam\n",
    "# 0 for HD(if connected, otherwise internal), 1 for internal (if HD connected)\n",
    "cap = cv2.VideoCapture(0)\n",
    "fourcc = cv2.VideoWriter_fourcc(*'XVID')\n",
    "out = cv2.VideoWriter('output2.avi',fourcc, 20.0, (640,480))\n",
    "\n",
    "# Create the haar cascade - used for lighting and stuff\n",
    "cascPath = \"haarcascade_frontalface_default.xml\"\n",
    "faceCascade = cv2.CascadeClassifier(cascPath)\n",
    "\n",
    "# Check if camera opened successfully\n",
    "if (cap.isOpened() == False):\n",
    "    print(\"Error opening video stream or file\")\n",
    "\n",
    "# Read until video is completed\n",
    "while (cap.isOpened()):\n",
    "    # Capture frame-by-frame\n",
    "    ret, frame = cap.read()\n",
    "    if ret:\n",
    "        gray = cv2.cvtColor(frame, cv2.COLOR_BGR2GRAY)\n",
    "\n",
    "        faces = faceCascade.detectMultiScale(\n",
    "            gray,\n",
    "            scaleFactor=1.2,\n",
    "            minNeighbors=5,\n",
    "            minSize=(30, 30),\n",
    "            flags = cv2.CASCADE_SCALE_IMAGE\n",
    "        )\n",
    "\n",
    "        for (x, y, w, h) in faces:\n",
    "            L = 0\n",
    "            A = 0\n",
    "            B = 0\n",
    "            rows = 0\n",
    "            cols = 0\n",
    "            # Draws rectangle around face\n",
    "            cv2.rectangle(frame, (x, y), (x+w, y+h), (0, 255, 0), 2)\n",
    "            face_frame = frame[y:y+h, x:x+w]\n",
    "        # Saves frame to video output\n",
    "        out.write(frame)\n",
    "        # Displays frame\n",
    "        cv2.imshow('Video', frame)\n",
    "\n",
    "        # Press Q on keyboard to  exit\n",
    "        if cv2.waitKey(25) & 0xFF == ord('q'):\n",
    "            break\n",
    "        # If receiving input from file, then processes until exit key or has read all frames\n",
    "        if cap.get(cv2.CAP_PROP_POS_FRAMES) == cap.get(cv2.CAP_PROP_FRAME_COUNT):\n",
    "            break\n",
    "    # Break the loop\n",
    "    else:\n",
    "        break\n",
    "\n",
    "# When everything done, release the video capture object\n",
    "cap.release()\n",
    "out.release()\n",
    "cv2.destroyAllWindows()\n"
   ]
  },
  {
   "cell_type": "code",
   "execution_count": 5,
   "metadata": {},
   "outputs": [],
   "source": []
  }
 ],
 "metadata": {
  "kernelspec": {
   "display_name": "Python 3",
   "language": "python",
   "name": "python3"
  },
  "language_info": {
   "codemirror_mode": {
    "name": "ipython",
    "version": 3
   },
   "file_extension": ".py",
   "mimetype": "text/x-python",
   "name": "python",
   "nbconvert_exporter": "python",
   "pygments_lexer": "ipython3",
   "version": "3.6.4"
  }
 },
 "nbformat": 4,
 "nbformat_minor": 2
}
