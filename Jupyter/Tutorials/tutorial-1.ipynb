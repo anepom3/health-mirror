{
 "cells": [
  {
   "cell_type": "markdown",
   "metadata": {},
   "source": [
    "# Introduction\n",
    "\n",
    "  This is my *first* Jupyter notebook\n",
    "  Today we're going to make sure the following libraries are installed:\n",
    "  1. OpenCV\n",
    "  2. Scikit Image\n",
    "  3. NumPy\n",
    " \n",
    "  If they are not installed, then we'll move to the Anaconda Navigator.\n",
    "  1. Click on Environments\n",
    "  2. Click on Left Arrow to expand Package List\n",
    "  3. Check to see if the above packages are installed or in the Not Installed List\n",
    "  4. Install neccessary packages\n",
    "  5. Otherwise Click the Play Button next the current environment\n",
    "  6. Open Terminal\n",
    "  7. pip install <package name>\n",
    "    \n",
    "  {OpenCV : python-opencv\n",
    "  Scikit Image: scikit-image\n",
    "  NumPy : numpy} \n",
    "  \n",
    "  "
   ]
  },
  {
   "cell_type": "code",
   "execution_count": 1,
   "metadata": {},
   "outputs": [],
   "source": [
    "x = 5\n",
    "y = 6\n",
    "z = x + y"
   ]
  },
  {
   "cell_type": "code",
   "execution_count": 2,
   "metadata": {},
   "outputs": [
    {
     "name": "stdout",
     "output_type": "stream",
     "text": [
      "11\n"
     ]
    }
   ],
   "source": [
    "print(z)"
   ]
  },
  {
   "cell_type": "code",
   "execution_count": 5,
   "metadata": {},
   "outputs": [],
   "source": [
    "import cv2"
   ]
  },
  {
   "cell_type": "code",
   "execution_count": null,
   "metadata": {},
   "outputs": [],
   "source": []
  }
 ],
 "metadata": {
  "kernelspec": {
   "display_name": "Python 3",
   "language": "python",
   "name": "python3"
  },
  "language_info": {
   "codemirror_mode": {
    "name": "ipython",
    "version": 3
   },
   "file_extension": ".py",
   "mimetype": "text/x-python",
   "name": "python",
   "nbconvert_exporter": "python",
   "pygments_lexer": "ipython3",
   "version": "3.6.4"
  }
 },
 "nbformat": 4,
 "nbformat_minor": 2
}
