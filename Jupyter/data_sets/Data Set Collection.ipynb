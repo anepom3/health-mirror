{
 "cells": [
  {
   "cell_type": "markdown",
   "metadata": {},
   "source": [
    "# Data Set Collection\n",
    "\n",
    "## to do\n",
    "\n",
    "1) record 30 second video of yourself sitting still. I just used my front facing webcam (better camera would be nice)\n",
    "\n",
    "2) save that file in same location as this notebook\n",
    "\n",
    "3) set raw_video_title = \"your_video_title\"\n",
    "\n",
    "4) run :)"
   ]
  },
  {
   "cell_type": "code",
   "execution_count": null,
   "metadata": {},
   "outputs": [],
   "source": [
    "import cv2\n",
    "import numpy as np\n",
    "from skimage import io, color\n",
    "import os"
   ]
  },
  {
   "cell_type": "code",
   "execution_count": null,
   "metadata": {},
   "outputs": [],
   "source": [
    "#fill this in with the video to be turned into a forehead video\n",
    "#run this box\n",
    "raw_video_title = \"Erickson.mp4\"\n",
    "\n",
    "make_data_set(raw_video_title)"
   ]
  },
  {
   "cell_type": "code",
   "execution_count": null,
   "metadata": {},
   "outputs": [],
   "source": [
    "# input   video title as string\n",
    "# output:   a folder with the same title as the video, with the final number being the fps\n",
    "#            contains\n",
    "def make_data_set(vid_title):\n",
    "    vid = cv2.VideoCapture(vid_title);\n",
    "    \n",
    "    # get the frames per second of video\n",
    "    fps = vid.get(cv2.CAP_PROP_FPS)\n",
    "    print (\"Frames per second: {0}\".format(fps))\n",
    "    \n",
    "    # Create a folder to hold the split frames\n",
    "    face_dest = vid_title[:-4] + \"_fps\" + str(round(fps,3));\n",
    "    if not os.path.exists(face_dest):\n",
    "        os.makedirs(face_dest)\n",
    "    \n",
    "\n",
    "    # Create the haar cascade - used for lighting and stuff\n",
    "    cascPath = \"haarcascade_frontalface_default.xml\"\n",
    "    faceCascade = cv2.CascadeClassifier(cascPath)\n",
    "\n",
    "    # Check if camera opened successfully\n",
    "    if (vid.isOpened() == False):\n",
    "        print(\"Error opening video stream or file\")\n",
    "    \n",
    "    frame_num = 0\n",
    "    # Read until video is completed\n",
    "    while (vid.isOpened()):\n",
    "        # Capture frame-by-frame\n",
    "        ret, frame = vid.read()\n",
    "        if ret:\n",
    "            gray = cv2.cvtColor(frame, cv2.COLOR_BGR2GRAY)\n",
    "\n",
    "            faces = faceCascade.detectMultiScale(\n",
    "                gray,\n",
    "                scaleFactor=1.2,\n",
    "                minNeighbors=5,\n",
    "                minSize=(30, 30),\n",
    "                flags = cv2.CASCADE_SCALE_IMAGE\n",
    "            )\n",
    "\n",
    "            for (x, y, w, h) in faces:\n",
    "                L = 0\n",
    "                A = 0\n",
    "                B = 0\n",
    "                rows = 0\n",
    "                cols = 0\n",
    "                \n",
    "                # Draws rectangle around face\n",
    "                cv2.rectangle(frame, (x, y), (x+w, y+h), (0, 255, 0), 2)\n",
    "                face_frame = frame[y:y+h, x:x+w]\n",
    "                top = int(h/10)\n",
    "                bottom = int(h/4)\n",
    "                left = int((3*w)/10)\n",
    "                right = int((7*w)/10)\n",
    "                forehead_frame = face_frame[top:bottom, left:right]\n",
    "            \n",
    "            # Saves frame to video output\n",
    "            cv2.imwrite(face_dest + \"/\" + str(frame_num) + \".png\", forehead_frame)\n",
    "            frame_num += 1\n",
    "            if(frame_num%100 == 0):\n",
    "                print(str(frame_num) + \" frames processed.\")\n",
    "                \n",
    "            # If receiving input from file, then processes until exit key or has read all frames\n",
    "            if vid.get(cv2.CAP_PROP_POS_FRAMES) == vid.get(cv2.CAP_PROP_FRAME_COUNT):\n",
    "                break\n",
    "        # Break the loop\n",
    "        else:\n",
    "            break\n",
    "\n",
    "    # When everything done, release the video capture object\n",
    "    cv2.destroyAllWindows()\n",
    "    vid.release()"
   ]
  }
 ],
 "metadata": {
  "kernelspec": {
   "display_name": "Python 3",
   "language": "python",
   "name": "python3"
  },
  "language_info": {
   "codemirror_mode": {
    "name": "ipython",
    "version": 3
   },
   "file_extension": ".py",
   "mimetype": "text/x-python",
   "name": "python",
   "nbconvert_exporter": "python",
   "pygments_lexer": "ipython3",
   "version": "3.7.4"
  }
 },
 "nbformat": 4,
 "nbformat_minor": 2
}
